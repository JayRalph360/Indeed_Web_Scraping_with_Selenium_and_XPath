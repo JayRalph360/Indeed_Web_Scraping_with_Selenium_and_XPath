{
 "cells": [
  {
   "cell_type": "code",
   "execution_count": 1,
   "id": "de617b54",
   "metadata": {},
   "outputs": [],
   "source": [
    "# using selenium to fetcth job titles\n",
    "from selenium import webdriver"
   ]
  },
  {
   "cell_type": "code",
   "execution_count": 2,
   "id": "f8ec626c",
   "metadata": {},
   "outputs": [],
   "source": [
    "url = 'https://www.indeed.com/jobs?q=data%20science&l=Remote&vjk=9c50f22f4a6a9852'"
   ]
  },
  {
   "cell_type": "code",
   "execution_count": 3,
   "id": "5bce0a9d",
   "metadata": {},
   "outputs": [],
   "source": [
    "driver = webdriver.Chrome()"
   ]
  },
  {
   "cell_type": "code",
   "execution_count": 4,
   "id": "9da8e76f",
   "metadata": {},
   "outputs": [],
   "source": [
    "# Set an implicit wait\n",
    "driver.implicitly_wait(10)\n",
    "driver.get(url) # launches a web browser and get url"
   ]
  },
  {
   "cell_type": "code",
   "execution_count": 5,
   "id": "55c563f0",
   "metadata": {},
   "outputs": [
    {
     "name": "stderr",
     "output_type": "stream",
     "text": [
      "<ipython-input-5-48d71d50d982>:2: DeprecationWarning: find_elements_by_class_name is deprecated. Please use find_elements(by=By.CLASS_NAME, value=name) instead\n",
      "  job_titles = [job.text for job in driver.find_elements_by_class_name('jobTitle')]\n"
     ]
    },
    {
     "name": "stdout",
     "output_type": "stream",
     "text": [
      "['new\\nPart-Time Student-Smart Connected Factory/Data & Analytics-R...', 'Data Science Associate (Remote)', 'Data Science Advisor', 'Graduate Data Scientist - Role Can be Remote', 'new\\nData Science Statistician', 'new\\nData Analyst', 'Data Science Manager - Remote', 'Analyst, Data Science', 'Data Scientist - Telecommute', 'Data Science Educator', 'new\\nImage Data Scientist', 'Analytics Engineer, Games', 'REMOTE - Data Scientist', 'data scientist -Remote', 'new\\nData Analyst – CHART Grant (ORS/CQCT)']\n"
     ]
    }
   ],
   "source": [
    "# Locate job by Class\n",
    "job_titles = [job.text for job in driver.find_elements_by_class_name('jobTitle')]\n",
    "print(job_titles)"
   ]
  },
  {
   "cell_type": "code",
   "execution_count": 6,
   "id": "9298b534",
   "metadata": {},
   "outputs": [
    {
     "name": "stderr",
     "output_type": "stream",
     "text": [
      "<ipython-input-6-92dbcdc20e2d>:2: DeprecationWarning: find_elements_by_xpath is deprecated. Please use find_elements(by=By.XPATH, value=xpath) instead\n",
      "  jobtitlex = job_titles = [job.text for job in driver.find_elements_by_xpath(\"//h2\")]\n"
     ]
    },
    {
     "name": "stdout",
     "output_type": "stream",
     "text": [
      "['Job Post Details', 'new\\nPart-Time Student-Smart Connected Factory/Data & Analytics-R...', 'Data Science Associate (Remote)', 'Data Science Advisor', 'Graduate Data Scientist - Role Can be Remote', 'new\\nData Science Statistician', 'new\\nData Analyst', 'Data Science Manager - Remote', 'Analyst, Data Science', 'Data Scientist - Telecommute', 'Data Science Educator', 'new\\nImage Data Scientist', 'Analytics Engineer, Games', 'REMOTE - Data Scientist', 'data scientist -Remote', 'new\\nData Analyst – CHART Grant (ORS/CQCT)']\n"
     ]
    }
   ],
   "source": [
    "# Locate job by XPath\n",
    "jobtitlex = job_titles = [job.text for job in driver.find_elements_by_xpath(\"//h2\")]\n",
    "print(jobtitlex)"
   ]
  }
 ],
 "metadata": {
  "kernelspec": {
   "display_name": "Python 3",
   "language": "python",
   "name": "python3"
  },
  "language_info": {
   "codemirror_mode": {
    "name": "ipython",
    "version": 3
   },
   "file_extension": ".py",
   "mimetype": "text/x-python",
   "name": "python",
   "nbconvert_exporter": "python",
   "pygments_lexer": "ipython3",
   "version": "3.8.8"
  }
 },
 "nbformat": 4,
 "nbformat_minor": 5
}
